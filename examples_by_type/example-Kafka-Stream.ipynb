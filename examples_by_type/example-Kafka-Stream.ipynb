{
 "cells": [
  {
   "cell_type": "markdown",
   "id": "14b6d4f5-e7eb-40bd-82f5-723081d80802",
   "metadata": {},
   "source": [
    "<div style=\"display: flex; justify-content: space-between; align-items: center; margin-bottom: 20px;\">\n",
    "    <div style=\"flex: 0 0 auto; margin-left: 0; margin-bottom: 0;\">\n",
    "        <img src=\"https://scidx.sci.utah.edu/wp-content/uploads/2024/12/logo-sm.png\" alt=\"scidx Logo\"/>\n",
    "    </div>\n",
    "<!--    <div style=\"flex: 0 0 auto; margin-left: auto; margin-bottom: 0;\">\n",
    "        <img src=\"https://nairrpilot.org/app/site/media/ndp.jpg\" alt=\"NDP Logo\" width=\"200\"/>\n",
    "    </div> -->\n",
    "</div>"
   ]
  },
  {
   "cell_type": "markdown",
   "id": "d5cb0d25",
   "metadata": {},
   "source": [
    "# SciDX Streaming Capabilities Demonstration: Kafka Stream \n",
    "\n",
    "This demonstration showcases the **SciDX Streaming capabilities**, leveraging both the **SciDX POP Library** for managing data objects and the **Streaming Library** for real-time data streaming and processing of a Kafka Stream.\n"
   ]
  },
  {
   "cell_type": "code",
   "execution_count": null,
   "id": "3021e074",
   "metadata": {},
   "outputs": [],
   "source": [
    "from scidx_streaming import StreamingClient\n",
    "from pointofpresence import APIClient"
   ]
  },
  {
   "cell_type": "markdown",
   "id": "dcd8a7d6-3974-4880-acb7-846dbf8d3375",
   "metadata": {},
   "source": [
    "Here, we:\n",
    "1. Initialize the `APIClient` to handle data registration and discovery.\n",
    "2. Initialize the `StreamingClient` to handle real-time data streams."
   ]
  },
  {
   "cell_type": "code",
   "execution_count": null,
   "id": "6fdbdd01-e195-4f3b-b17e-45771538deed",
   "metadata": {},
   "outputs": [],
   "source": [
    "# Get the token from https://token.ndp.utah.edu\n",
    "API_URL=\"155.101.6.191:8003\"\n",
    "TOKEN=\"eyJhbGciOiJSUzI1NiIsInR5cCIgOiAiSldUIiwia2lkIiA6ICJWbFJfUjhMNUFZN0FvOU5FSDA0MW9kSUJMczBMSk52bnQxU0ZTaDFjVDQ0In0.eyJleHAiOjE3NDEwNjk0MDcsImlhdCI6MTc0MTAzNzAwNywiYXV0aF90aW1lIjoxNzQxMDM2OTk5LCJqdGkiOiIwY2UyNmI0My1lMjg3LTRhMWEtOWVmNC0xZmMwMGNjNjg5YTciLCJpc3MiOiJodHRwczovL2lkcC5uYXRpb25hbGRhdGFwbGF0Zm9ybS5vcmcvcmVhbG1zL05EUCIsImF1ZCI6ImFjY291bnQiLCJzdWIiOiJkMzRhMzQ1OS1lNWI2LTQ4MjYtYjZhNi05YWFmNGViN2I0NDciLCJ0eXAiOiJCZWFyZXIiLCJhenAiOiJuZHBfZnJvbnRlbmRfcHJvZCIsInNlc3Npb25fc3RhdGUiOiJlNDYwYWY4MC00MjIyLTRhMjAtYjIzMy1kOWUwNTJmNDgzYzMiLCJhY3IiOiIwIiwiYWxsb3dlZC1vcmlnaW5zIjpbIioiXSwicmVhbG1fYWNjZXNzIjp7InJvbGVzIjpbImRlZmF1bHQtcm9sZXMtbmRwIiwib2ZmbGluZV9hY2Nlc3MiLCJ1bWFfYXV0aG9yaXphdGlvbiJdfSwicmVzb3VyY2VfYWNjZXNzIjp7ImFjY291bnQiOnsicm9sZXMiOlsibWFuYWdlLWFjY291bnQiLCJtYW5hZ2UtYWNjb3VudC1saW5rcyIsInZpZXctcHJvZmlsZSJdfX0sInNjb3BlIjoib3BlbmlkIHByb2ZpbGUgZW1haWwiLCJzaWQiOiJlNDYwYWY4MC00MjIyLTRhMjAtYjIzMy1kOWUwNTJmNDgzYzMiLCJlbWFpbF92ZXJpZmllZCI6ZmFsc2UsIm5hbWUiOiJBbmRyZXUgQmF1dGlzdGEiLCJwcmVmZXJyZWRfdXNlcm5hbWUiOiJhbmRyZXVmYjk3QGdtYWlsLmNvbS5lZHUiLCJnaXZlbl9uYW1lIjoiQW5kcmV1IiwiZmFtaWx5X25hbWUiOiJCYXV0aXN0YSIsImVtYWlsIjoiYW5kcmV1ZmI5N0BnbWFpbC5jb20uZWR1In0.qXNMhN3igug69I_kwUYGgzF10p8PouT2Gw4PQ67PQ0-c0w22CMN4J45voFZAhZ9psdjM8pMDLwPaxYMg3CgSFNWeKQCRYs6L_HoxavwEFcObnn8MZ45wtVGrr1odPRl3xdAn7W9Hyqyg-79CjauwA4P03w7wgoIffhoKY7WAVK2XJRjkqchadtb1Izxp282YGWOtclt8mN1IS9aN7nPQWeS5nR9R4VJCgcIsGoRlGHHBbwgdAjkAR-k1iEm36aYCD4evVkmcmjgXDCXb3ecPWi9NyiiZvPBy67OLCQZ--m1cSkjLSuPd_N6L0UBVRXd78CCJ2KavlSCGls8TEcruGg\"\n",
    "\n",
    "# Initialize the POP client for data registration and discovery\n",
    "client = APIClient(base_url=API_URL, token=TOKEN)\n",
    "\n",
    "# Initialize the Streaming client for real-time data streaming\n",
    "streaming = StreamingClient(client)\n",
    "print(f\"Streaming Client initialized. User ID: {streaming.user_id}\")"
   ]
  },
  {
   "cell_type": "markdown",
   "id": "c9d99d22-459d-4ac7-9ba9-c8b53b6ab2fc",
   "metadata": {},
   "source": [
    "# Basic use:\n",
    "\n",
    "### 1. Register a Kafka Stream\n",
    "\n",
    "In this step, we will use the **POP client**, and the metadata for resgitsering an online **Kafka Stream** into our POP.\n",
    "\n",
    "Kafka streams allow real-time data ingestion from a Kafka topic. To register a Kafka-based data stream, we use client.register_kafka_topic(metadata), which requires defining the necessary metadata.\n",
    "\n"
   ]
  },
  {
   "cell_type": "code",
   "execution_count": null,
   "id": "561096d5",
   "metadata": {},
   "outputs": [],
   "source": [
    "# Define the payload data for the Kafka topic registration\n",
    "kafka_stream_metadata = {\n",
    "  \"dataset_name\": \"timestamp-example\",\n",
    "  \"dataset_title\": \"timestamp-example\",\n",
    "  \"owner_org\": \"saleem_test\",\n",
    "  \"kafka_topic\": \"timestamp-topic-1\",\n",
    "  \"kafka_host\": \"155.101.6.191\",\n",
    "  \"kafka_port\": \"9092\"\n",
    "}\n",
    "\n",
    "# Call the register_kafka_topic method to add the Kafka topic\n",
    "try:\n",
    "    response = client.register_kafka_topic(kafka_stream_metadata)\n",
    "    print(\"Kafka topic registered successfully with ID:\", response[\"id\"])\n",
    "except ValueError as e:\n",
    "    print(\"Failed to register Kafka topic.\")\n",
    "    print(f\"{e}.\")"
   ]
  },
  {
   "cell_type": "markdown",
   "id": "c0cdb5ef-4cd7-4d88-bf93-7d96eb6dba5d",
   "metadata": {},
   "source": [
    "### 2. Search for the registered entry\n",
    "\n",
    "This ensures the dataset is discoverable for use by the Data Consumers."
   ]
  },
  {
   "cell_type": "code",
   "execution_count": null,
   "id": "bff66712-e1d9-4fcb-b117-cf486307b686",
   "metadata": {},
   "outputs": [],
   "source": [
    "# Search for the registered Earthscope data stream\n",
    "import json\n",
    "\n",
    "search_results = client.search_datasets(\"timestamp-example\", server=\"local\")\n",
    "print(f\"Number of datasets found: {len(search_results)}\")\n",
    "print(\"Search result:\\n\" + json.dumps(search_results, indent=4))\n"
   ]
  },
  {
   "cell_type": "markdown",
   "id": "02cb26dd-5cfe-44af-a765-c45fbeea2719",
   "metadata": {},
   "source": [
    "### 3. Create a Data Stream from the registered entry"
   ]
  },
  {
   "cell_type": "code",
   "execution_count": null,
   "id": "77b63b42",
   "metadata": {},
   "outputs": [],
   "source": [
    "# Create a Kafka stream data\n",
    "stream = await streaming.create_kafka_stream(\n",
    "    keywords=[\"timestamp-example\"],\n",
    "    match_all=True\n",
    ")\n",
    "\n",
    "# Retrieve the stream's topic name\n",
    "topic = stream.data_stream_id\n",
    "print(f\"Stream created: {topic}\")"
   ]
  },
  {
   "cell_type": "markdown",
   "id": "627586af-deb9-4852-abd8-1ac91de29e31",
   "metadata": {},
   "source": [
    "### 4. Consume the Streamed Data "
   ]
  },
  {
   "cell_type": "code",
   "execution_count": null,
   "id": "8312f6e9-fb62-4665-b991-74e1a17170be",
   "metadata": {},
   "outputs": [],
   "source": [
    "# Start consuming the filtered Kafka stream\n",
    "consumer = streaming.consume_kafka_messages(topic)"
   ]
  },
  {
   "cell_type": "code",
   "execution_count": null,
   "id": "792cd9d8-1da9-48a4-b86d-0a5f7ae3969b",
   "metadata": {},
   "outputs": [],
   "source": [
    "# After some seconds you can visualize the dataset\n",
    "consumer.dataframe"
   ]
  },
  {
   "cell_type": "markdown",
   "id": "e23a702b-f3c0-4f45-9b3e-5944e2b0a20b",
   "metadata": {},
   "source": [
    "### 5: Stop Data Consumption and Clean up \n",
    "\n",
    "To wrap up, we will: \n",
    "1. Stop the data consumer to halt data processing.\n",
    "2. Delete the created stream from the Kafka topic using the Streaming client.\n",
    "3. Remove the registered dataset using the POP client.\n",
    "\n",
    "This ensures all resources and background tasks are properly released."
   ]
  },
  {
   "cell_type": "code",
   "execution_count": null,
   "id": "66db93d1-a846-49d1-b1c4-fa11acd0ed19",
   "metadata": {},
   "outputs": [],
   "source": [
    "# Stop the Kafka consumer\n",
    "consumer.stop()\n",
    "\n",
    "# Delete the Kafka stream - this will cause error\n",
    "await streaming.delete_stream(stream)\n",
    "\n",
    "# Delete the registered dataset from the POP system\n",
    "client.delete_resource_by_id(search_results[0][\"id\"])\n",
    "print(\"Cleanup completed: Stream and registered dataset deleted.\")"
   ]
  },
  {
   "cell_type": "markdown",
   "id": "de31b2a3",
   "metadata": {},
   "source": [
    "<br>\n",
    "\n",
    "## **Other Resource**\n",
    "\n",
    "Create a Kafka topic on our running Kafka server."
   ]
  },
  {
   "cell_type": "markdown",
   "id": "a38c9392",
   "metadata": {},
   "source": [
    "### 1. Get Kafka Server Detail\n",
    "\n",
    "The POP API stores the connection information for the Kafka server. In the following step, we use `client.get_kafka_details()` to retrieve the details of the running Kafka server, such as host and port, which are needed to register and stream data."
   ]
  },
  {
   "cell_type": "code",
   "execution_count": null,
   "id": "122e5576",
   "metadata": {},
   "outputs": [],
   "source": [
    "# Run the following code cell to get Kafka connection details\n",
    "try:\n",
    "    response = client.get_kafka_details()\n",
    "    print(\"Kafka details:\", response)\n",
    "except ValueError as e:\n",
    "    print(\"Failed to get the Kafka details.\")\n",
    "    print(e)\n",
    "\n",
    "kafka_host = response[\"kafka_host\"]\n",
    "kafka_port = response[\"kafka_port\"]"
   ]
  },
  {
   "cell_type": "markdown",
   "id": "4b215eae",
   "metadata": {},
   "source": [
    "### 2. Initialize Kafka Client"
   ]
  },
  {
   "cell_type": "code",
   "execution_count": null,
   "id": "ca28563d",
   "metadata": {},
   "outputs": [],
   "source": [
    "from kafka.admin import KafkaAdminClient, NewTopic\n",
    "\n",
    "# Define Kafka broker\n",
    "bootstrap_servers = f'{kafka_host}:{kafka_port}' \n",
    "print(f\"Kafka bootstrap server: {bootstrap_servers}\")\n",
    "\n",
    "# Create an admin client\n",
    "kafka_client = KafkaAdminClient(\n",
    "    bootstrap_servers=bootstrap_servers,\n",
    ")"
   ]
  },
  {
   "cell_type": "markdown",
   "id": "a161de0f",
   "metadata": {},
   "source": [
    "### 3. Create a new Kafka topic: **Skip the following code cell if the **timestamp-topic-1** already exists, if can verify by executing Step 4 List all Topics**"
   ]
  },
  {
   "cell_type": "code",
   "execution_count": null,
   "id": "5634f773",
   "metadata": {},
   "outputs": [],
   "source": [
    "# Define the topic name to be used by the streaming client\n",
    "streaming_topic = 'timestamp-topic-1'\n",
    "\n",
    "# Define the new topic\n",
    "topic = NewTopic(name=streaming_topic, num_partitions=1, replication_factor=1)\n",
    "\n",
    "# Attempt to create the topic - already exists will raise an error\n",
    "try:\n",
    "    kafka_client.create_topics([topic])\n",
    "    print(f\"Topic '{streaming_topic}' created successfully.\")\n",
    "except Exception as e:\n",
    "    print(f\"Failed to create topic: {e}\")"
   ]
  },
  {
   "cell_type": "markdown",
   "id": "0981e1c8",
   "metadata": {},
   "source": [
    "### 4. List all Topics"
   ]
  },
  {
   "cell_type": "code",
   "execution_count": null,
   "id": "3c95cc08",
   "metadata": {},
   "outputs": [],
   "source": [
    "# List existing topics in the Kafka cluster\n",
    "try:\n",
    "    topics = kafka_client.list_topics()\n",
    "    print(\"Topics in the Kafka cluster:\")\n",
    "    for topic in topics:\n",
    "        print(f\" - {topic}\")\n",
    "except Exception as e:\n",
    "    print(f\"Failed to list topics: {e}\")"
   ]
  },
  {
   "cell_type": "markdown",
   "id": "e4f7ca09",
   "metadata": {},
   "source": [
    "### 5: Delete Kafka Topic"
   ]
  },
  {
   "cell_type": "code",
   "execution_count": null,
   "id": "c703ae4c",
   "metadata": {},
   "outputs": [],
   "source": [
    "# Delete the topic if it exists\n",
    "try:\n",
    "    kafka_client.delete_topics([streaming_topic])\n",
    "    print(f\"Topic '{streaming_topic}' deletion requested.\")\n",
    "except Exception as e:\n",
    "    print(f\"Failed to delete topic: {e}\")"
   ]
  },
  {
   "cell_type": "code",
   "execution_count": null,
   "id": "c3506fe1",
   "metadata": {},
   "outputs": [],
   "source": []
  }
 ],
 "metadata": {
  "kernelspec": {
   "display_name": "Python 3 (ipykernel)",
   "language": "python",
   "name": "python3"
  },
  "language_info": {
   "codemirror_mode": {
    "name": "ipython",
    "version": 3
   },
   "file_extension": ".py",
   "mimetype": "text/x-python",
   "name": "python",
   "nbconvert_exporter": "python",
   "pygments_lexer": "ipython3",
   "version": "3.11.6"
  }
 },
 "nbformat": 4,
 "nbformat_minor": 5
}
