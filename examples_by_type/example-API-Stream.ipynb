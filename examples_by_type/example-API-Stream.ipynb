{
 "cells": [
  {
   "cell_type": "markdown",
   "id": "14b6d4f5-e7eb-40bd-82f5-723081d80802",
   "metadata": {},
   "source": [
    "<div>\n",
    "    <div>\n",
    "        <img src=\"https://scidx.sci.utah.edu/wp-content/uploads/2024/12/logo-sm.png\" alt=\"scidx Logo\"/>\n",
    "        <img src=\"https://nationaldataplatform.org/National_Data_Platform_horiz_stacked.svg\" alt=\"NDP Logo\" width=\"400\" style=\"padding-left:100px\"/>\n",
    "    </div>\n",
    "</div>"
   ]
  },
  {
   "cell_type": "markdown",
   "id": "d5cb0d25",
   "metadata": {},
   "source": [
    "# SciDX Streaming Capabilities Demonstration: API Streaming \n",
    "\n",
    "This demonstration showcases the **SciDX Streaming capabilities**, leveraging both the **SciDX NDP Endpoint Library** for managing data objects and the **Streaming Library** for real-time data streaming and processing of an online API stream.\n",
    "\n",
    "**`SciDX NDP Endpoint Library`:** Used to register and discover data objects (acts as the Data Provider). Interacts with the NDP endpoint API to register and manage data objects. <br>\n",
    "**`Streaming Library`:** Used to create, manage, and consume real-time data streams (acts as the Data Consumer). Manages real-time data streams, including applying filters and consuming messages.\n",
    "\n",
    "<br>\n",
    "\n",
    "## **Setup**: Client preparation\n",
    "\n",
    "1. **Import necessary modules** for handling data streams:\n",
    "\n",
    "   a. Import `StreamingClient` from `scidx_streaming` module for handling streaming functionality <br>\n",
    "   b. Import `APIClient` from `pointofpresence` module for API interactions\n"
   ]
  },
  {
   "cell_type": "code",
   "execution_count": null,
   "id": "3021e074",
   "metadata": {},
   "outputs": [],
   "source": [
    "from scidx_streaming import StreamingClient\n",
    "from pointofpresence import APIClient"
   ]
  },
  {
   "cell_type": "markdown",
   "id": "dcd8a7d6-3974-4880-acb7-846dbf8d3375",
   "metadata": {},
   "source": [
    "2. **API Authentication Token Setup**\n",
    "\n",
    "    1. Navigate to https://token.ndp.utah.edu\n",
    "    \n",
    "    2. If not already authenticated:\n",
    "       - Select the `CILogon` button\n",
    "       - Choose your institution from the Identity Provider list\n",
    "       - Complete the institutional login process\n",
    "    \n",
    "    3. Upon successful authentication, you will be redirected to token.ndp.utah.edu\n",
    "    \n",
    "    4. Locate the `Access Token` field and copy the token value\n",
    "    \n",
    "    5. Replace `<your_token>` in the configuration below with your copied access token"
   ]
  },
  {
   "cell_type": "code",
   "execution_count": null,
   "id": "3d8bd3c7",
   "metadata": {},
   "outputs": [],
   "source": [
    "TOKEN=\"<your_token>\""
   ]
  },
  {
   "cell_type": "markdown",
   "id": "dff49bec",
   "metadata": {},
   "source": [
    "3. **Initialize the API or Kafka client** to register and discover data streams.\n",
    "\n",
    "    a. `APIClient`: handle data registration and discovery. <br>\n",
    "    b. `StreamingClient`: handle real-time data streams."
   ]
  },
  {
   "cell_type": "code",
   "execution_count": null,
   "id": "2df9a8a9",
   "metadata": {},
   "outputs": [],
   "source": [
    "# The URL of the API Client to connect to the NDP endpoint service\n",
    "API_URL=\"155.101.6.191:8003\"\n",
    "\n",
    "# Initialize the NDP endpoint client for data registration and discovery\n",
    "client = APIClient(base_url=API_URL, token=TOKEN)\n",
    "\n",
    "# Initialize the Streaming client for real-time data streaming\n",
    "streaming = StreamingClient(client)\n",
    "print(f\"Streaming Client initialized. User ID: {streaming.user_id}\")"
   ]
  },
  {
   "cell_type": "markdown",
   "id": "4ec7325f",
   "metadata": {},
   "source": [
    "## **Basic Usage**\n",
    "\n",
    "**Data Provider**: Register data stream \n",
    "\n",
    "1. Registering the data source metadata.\n",
    "2. Verifying its discoverability.\n",
    "\n",
    "> **Note:**  \n",
    "> Each registration requires defining `metadata`, which includes:  \n",
    "> - Basic information: Name, title, and organization ID.  \n",
    "> - Source details: Specific configurations related to the data source.  \n",
    "> - Mapping: Selecting and renaming relevant fields.  \n",
    "> - Processing rules: Extracting data from structured responses.\n",
    "\n",
    "**Data Consumer**:\n",
    "1. Discover and apply filters(optional) to the registered data sources to create a custom data stream.\n",
    "2. Subscribe to and consume the custom data stream in real-time.\n",
    "3. Process and visualize the incoming data dynamically.\n",
    "\n",
    "\n",
    "<br>\n",
    "\n",
    "\n",
    "#### **1**. Register a **`API Stream`** from an external API\n",
    "\n",
    "In this step, we will use the `NDP endpoint client`, and the metadata for resgitsering an online **API Stream** into our NDP endpoint. Once registered, these streams can be discovered, and consumed dynamically."
   ]
  },
  {
   "cell_type": "code",
   "execution_count": null,
   "id": "a291386b-45bb-4b40-a3be-51007c066772",
   "metadata": {},
   "outputs": [],
   "source": [
    "# Register the Streaming data with the NDP endpoint client\n",
    "api_stream_metadata = {\n",
    "    \"resource_name\": \"api_stream_example_sage\",\n",
    "    \"resource_title\": \"Example API Stream\",\n",
    "    \"owner_org\": \"saleem_test\",\n",
    "    \"resource_url\": \"https://data.sagecontinuum.org/api/v0/stream?name=wxt.wind.direction\",\n",
    "    \"file_type\": \"stream\",\n",
    "    \"notes\": \"Some additional notes about the resource.\"\n",
    "}\n",
    "\n",
    "try:\n",
    "    print(client.register_url(api_stream_metadata))\n",
    "    print('Correctly registered')\n",
    "except ValueError as e: # If the dataset already exists just show the error\n",
    "    print(e)"
   ]
  },
  {
   "cell_type": "markdown",
   "id": "06496f54",
   "metadata": {},
   "source": [
    "#### **2**. Search for the registered entry\n",
    "\n",
    "Now that we have registered data source, we will: \n",
    "1. Use the **NDP endpoint client** to search for datasets using the `search_datasets` method.\n",
    "2. Verify that the **registered data stream** is correctly stored and available for discovery.\n",
    "3. Confirm meta data accuracy before data consumption.\n",
    "\n",
    "This ensures the dataset is discoverable for use by the Data Consumers."
   ]
  },
  {
   "cell_type": "code",
   "execution_count": null,
   "id": "bff66712-e1d9-4fcb-b117-cf486307b686",
   "metadata": {},
   "outputs": [],
   "source": [
    "# Search for the registered Earthscope data stream\n",
    "search_results = client.search_datasets(\"api_stream_example_sage\", server=\"local\")\n",
    "print(f\"Number of datasets found: {len(search_results)}\")"
   ]
  },
  {
   "cell_type": "markdown",
   "id": "c585f485",
   "metadata": {},
   "source": [
    "#### **3**. Create a Data Stream from the registered entry\n",
    "\n",
    "Now we will leverage the functionalities of `Streaming Client` to consume the data stream registered by `API Client`.\n",
    "\n",
    "The `create_kafka_stream` function searches for datasets matching the provided keywords, applies filtering semantics, and creates a real-time Kafka stream for consumption.\n",
    "\n",
    "Function parameters\n",
    "- **`keywords`**: List of keywords to filter relevant datasets.\n",
    "- filter_semantics: Optional, defines filtering criteria for datasets.\n",
    "- match_all: Optional, if True only data sources with all the keywords will be selected.\n",
    "- username: Optional username for authentication in protected data sources.\n",
    "- password: Optional password for authentication in protected data sources.\n"
   ]
  },
  {
   "cell_type": "code",
   "execution_count": null,
   "id": "88586b32-ab0b-4d3f-9c1d-0a4298353d2d",
   "metadata": {},
   "outputs": [],
   "source": [
    "# Create a Kafka stream without filters\n",
    "stream = await streaming.create_kafka_stream(\n",
    "    keywords=[\"api_stream_example_sage\"]\n",
    ")\n",
    "\n",
    "# Retrieve the stream's topic name\n",
    "topic = stream.data_stream_id\n",
    "print(f\"Stream created: {topic}\")"
   ]
  },
  {
   "cell_type": "markdown",
   "id": "8660f542",
   "metadata": {},
   "source": [
    "#### **4**. Consume the Streamed Data \n",
    "\n",
    "Now that we have successfully created a Kafka data stream, we transition to real-time data consumption. This step involves:\n",
    "\n",
    "1. Initializing a kafka consumer: Passing the data stream topic to the consume_kafka_messages function.\n",
    "2. Listening for incoming messages: Continuously receiving new filtered data in real-time.\n",
    "3. Processing and updating the data dynamically: Messages are appended to a DataFrame for analysis or visualization."
   ]
  },
  {
   "cell_type": "code",
   "execution_count": null,
   "id": "8312f6e9-fb62-4665-b991-74e1a17170be",
   "metadata": {},
   "outputs": [],
   "source": [
    "# Start consuming the filtered Kafka stream\n",
    "consumer = streaming.consume_kafka_messages(topic)"
   ]
  },
  {
   "cell_type": "markdown",
   "id": "5b9b3f7b",
   "metadata": {},
   "source": [
    "**Note**: It may take a few seconds for data to NDP endpointulate due to real-time processing."
   ]
  },
  {
   "cell_type": "code",
   "execution_count": null,
   "id": "792cd9d8-1da9-48a4-b86d-0a5f7ae3969b",
   "metadata": {},
   "outputs": [],
   "source": [
    "# After some seconds you can visualize the dataset\n",
    "consumer.dataframe"
   ]
  },
  {
   "cell_type": "markdown",
   "id": "1e35d3db",
   "metadata": {},
   "source": [
    "#### **5**: Stop Data Consumption and Clean up \n",
    "\n",
    "To wrap up, we will: \n",
    "1. Stop the data consumer to halt data processing.\n",
    "2. Delete the created stream from the Kafka topic using the Streaming client.\n",
    "3. Remove the registered dataset using the NDP endpoint client.\n",
    "\n",
    "This ensures all resources and background tasks are properly released."
   ]
  },
  {
   "cell_type": "code",
   "execution_count": null,
   "id": "66db93d1-a846-49d1-b1c4-fa11acd0ed19",
   "metadata": {},
   "outputs": [],
   "source": [
    "# Stop the Kafka consumer\n",
    "consumer.stop()\n",
    "\n",
    "# Delete the Kafka stream\n",
    "await streaming.delete_stream(stream)\n",
    "\n",
    "# Delete the registered dataset from the NDP endpoint system\n",
    "client.delete_resource_by_id(search_results[0][\"id\"])\n",
    "print(\"Cleanup completed: Stream and registered dataset deleted.\")"
   ]
  },
  {
   "cell_type": "markdown",
   "id": "3850dff7",
   "metadata": {},
   "source": [
    "<br><br>\n",
    "\n",
    "## **Advanced Usage**: Apply transformations and filters to the consumed data\n",
    "\n",
    "`SciDX` provides a powerful filtering system that allows users to refine their data streams by applying custom filtering conditions before consuming them. These filters enable real-time data selection based on specific rules, comparisons, and logical expressions.\n",
    "\n",
    "In this section, we will: \n",
    "1. **Register custom data streams** (via API) using the SciDX framework.\n",
    "2. **Discover and apply filters** to customize the data stream before consumption.\n",
    "3. **Consume and visualize real-time data streams**.\n",
    "\n",
    "#### **1**. Register and Pre-process a stream\n",
    "\n",
    "This time we will map the values of interest"
   ]
  },
  {
   "cell_type": "code",
   "execution_count": null,
   "id": "51bbb379-a193-4539-b69c-acb0f5163618",
   "metadata": {},
   "outputs": [],
   "source": [
    "# Register the Streaming data with the NDP endpoint client\n",
    "api_stream_metadata = {\n",
    "    \"resource_name\": \"api_stream_example_sage_advanced\",\n",
    "    \"resource_title\": \"Example API Stream\",\n",
    "    \"owner_org\": \"saleem_test\",\n",
    "    \"resource_url\": \"https://data.sagecontinuum.org/api/v0/stream\",\n",
    "    \"file_type\": \"stream\",\n",
    "    \"notes\": \"Some additional notes about the resource.\",\n",
    "    \"mapping\": {\n",
    "        \"timestamp\": \"timestamp\",\n",
    "        \"name\": \"name\",\n",
    "        \"direction\": \"value\",\n",
    "        \"vsn\": \"meta.vsn\",\n",
    "        \"sensor\": \"meta.sensor\",\n",
    "        \"units\": \"meta.units\"\n",
    "    }\n",
    "}\n",
    "\n",
    "try:\n",
    "    print(client.register_url(api_stream_metadata))\n",
    "    print('Correctly registered')\n",
    "except ValueError as e: # If the dataset already exists just show the error\n",
    "    print(e)"
   ]
  },
  {
   "cell_type": "markdown",
   "id": "f54d8b5c",
   "metadata": {},
   "source": [
    "#### **2**. Search for the registered entry\n",
    "\n",
    "Now that we have registered data source, we will: \n",
    "1. Use the **NDP endpoint client** to search for datasets using the `search_datasets` method.\n",
    "2. Verify that the **registered data stream** is correctly stored and available for discovery.\n",
    "3. Confirm meta data accuracy before data consumption.\n",
    "\n",
    "This ensures the dataset is discoverable for use by the Data Consumers."
   ]
  },
  {
   "cell_type": "code",
   "execution_count": null,
   "id": "ea1ba490-4da2-4547-9260-03004c980733",
   "metadata": {},
   "outputs": [],
   "source": [
    "# Search for the registered Earthscope data stream\n",
    "search_results = client.search_datasets(\"api_stream_example_sage_advanced\", server=\"local\")\n",
    "print(f\"Number of datasets found: {len(search_results)}\")"
   ]
  },
  {
   "cell_type": "markdown",
   "id": "d8bf05e6",
   "metadata": {},
   "source": [
    "### **3**. Create a Data Stream from the registered entry with Filters\n",
    "\n",
    "Now we will leverage the functionalities of `Streaming Client` to consume the data stream registered by `API Client`.\n",
    "\n",
    "The `create_kafka_stream` function searches for datasets matching the provided keywords, applies filtering semantics, and creates a real-time Kafka stream for consumption.\n",
    "\n",
    "Function parameters\n",
    "- **`keywords`**: List of keywords to filter relevant datasets.\n",
    "- **`filter_semantics`**: defines filtering criteria for datasets.\n",
    "- **`match_all`**: Optional, if True only data sources with all the keywords will be selected.\n",
    "- username: Optional username for authentication in protected data sources.\n",
    "- password: Optional password for authentication in protected data sources.\n",
    "\n",
    "The filtering capabilities allow us to refine the data stream by applying conditions, alerts, and transformations.\n",
    "\n",
    "#### Filtering capabilities: \n",
    "\n",
    "| **Type**                        | **Explanation**                                             | **Example**                                       |\n",
    "|---------------------------------|-------------------------------------------------------------|---------------------------------------------------|\n",
    "| Column Comparisons              | Column-to-column comparisons                                | `x > y`                                           |\n",
    "| Mathematical Operations         | Addition, subtraction, multiplication and division          | `x > 10*y`                                        |\n",
    "| IN Operator                     | Check if values are in a list                               | `station IN ['A', 'B']`                           |\n",
    "| Conditional Logic (IF-THEN-ELSE)| Apply rules based on conditional statements                 | `IF x > 20 THEN alert = High ELSE y = 10`         |\n",
    "| Logical Operators (AND, OR)     | Combine multiple conditions using AND and OR operators       | `IF x > 10 OR z = 20 THEN alert = High ELSE alert = Low` |\n",
    "| Window-Based Filtering          | Calculate aggregates (mean, sum, max, min) over sliding windows | `IF window_filter(9, sum, x > 20) THEN alert = High` |\n"
   ]
  },
  {
   "cell_type": "code",
   "execution_count": null,
   "id": "51a9dc3c-cd7f-4ac3-a9de-9182e1ca0ca7",
   "metadata": {},
   "outputs": [],
   "source": [
    "filters = [\n",
    "    \"name = wxt.wind.direction\"\n",
    "]\n",
    "\n",
    "# Create a Kafka stream for Earthscope data\n",
    "stream = await streaming.create_kafka_stream(\n",
    "    keywords=[\"api_stream_example_sage_advanced\"],\n",
    "    match_all=True,\n",
    "    filter_semantics=filters\n",
    ")\n",
    "\n",
    "# Retrieve the stream's topic name\n",
    "topic = stream.data_stream_id\n",
    "print(f\"Stream created: {topic}\")"
   ]
  },
  {
   "cell_type": "markdown",
   "id": "4d87e801",
   "metadata": {},
   "source": [
    "`SciDX` does not remove rows from the data stream by default. Instead:\n",
    "\n",
    "If a row does not meet the filtering criteria, its affected column values are set to null.\n",
    "All rows are still sent, even if they contain null values.\n",
    "Users can later apply actions to tailor the response, like the delete_null_rows that remove rows where some columns contain null values."
   ]
  },
  {
   "cell_type": "markdown",
   "id": "1335292e",
   "metadata": {},
   "source": [
    "#### 4. Consume the Streamed Data \n",
    "\n",
    "Now that we have successfully created a **filtered** Kafka data stream, we transition to real-time data consumption. This step involves:\n",
    "\n",
    "1. Initializing a kafka consumer: Passing the data stream topic to the consume_kafka_messages function.\n",
    "2. Listening for incoming messages: Continuously receiving new filtered data in real-time.\n",
    "3. Processing and updating the data dynamically: Messages are appended to a DataFrame for analysis or visualization."
   ]
  },
  {
   "cell_type": "code",
   "execution_count": null,
   "id": "ec65fbe5-44ae-423d-8442-25f47d90a19a",
   "metadata": {},
   "outputs": [],
   "source": [
    "# Start consuming the filtered Kafka stream\n",
    "consumer = streaming.consume_kafka_messages(topic)"
   ]
  },
  {
   "cell_type": "markdown",
   "id": "413e81a9",
   "metadata": {},
   "source": [
    "**Note**: It may take a few seconds for data to NDP endpointulate due to real-time processing."
   ]
  },
  {
   "cell_type": "code",
   "execution_count": null,
   "id": "6c6b0cf1-0f5e-46ef-a453-48a31949d121",
   "metadata": {},
   "outputs": [],
   "source": [
    "consumer.dataframe"
   ]
  },
  {
   "cell_type": "markdown",
   "id": "96b385db",
   "metadata": {},
   "source": [
    "### **5**: Stop Data Consumption and Clean up \n",
    "\n",
    "To wrap up, we will: \n",
    "1. Stop the data consumer to halt data processing.\n",
    "2. Delete the created stream from the Kafka topic using the Streaming client.\n",
    "3. Remove the registered dataset using the NDP endpoint client.\n",
    "\n",
    "This ensures all resources and background tasks are properly released."
   ]
  },
  {
   "cell_type": "code",
   "execution_count": null,
   "id": "d9d1df0a-a70e-45be-8bda-c898dc1311d1",
   "metadata": {},
   "outputs": [],
   "source": [
    "# Stop the Kafka consumer\n",
    "consumer.stop()\n",
    "\n",
    "# Delete the Kafka stream\n",
    "await streaming.delete_stream(stream)\n",
    "\n",
    "# Delete the registered dataset from the NDP endpoint system\n",
    "client.delete_resource_by_id(search_results[0][\"id\"])\n",
    "print(\"Cleanup completed: Stream and registered dataset deleted.\")"
   ]
  },
  {
   "cell_type": "code",
   "execution_count": null,
   "id": "2dcba337-aad8-4fb6-81b7-6607d8f78e05",
   "metadata": {},
   "outputs": [],
   "source": []
  }
 ],
 "metadata": {
  "kernelspec": {
   "display_name": "Python 3 (ipykernel)",
   "language": "python",
   "name": "python3"
  },
  "language_info": {
   "codemirror_mode": {
    "name": "ipython",
    "version": 3
   },
   "file_extension": ".py",
   "mimetype": "text/x-python",
   "name": "python",
   "nbconvert_exporter": "python",
   "pygments_lexer": "ipython3",
   "version": "3.11.6"
  }
 },
 "nbformat": 4,
 "nbformat_minor": 5
}
