{
 "cells": [
  {
   "cell_type": "markdown",
   "id": "14b6d4f5-e7eb-40bd-82f5-723081d80802",
   "metadata": {},
   "source": [
    "<div style=\"display: flex; justify-content: space-between; align-items: center; margin-bottom: 20px;\">\n",
    "    <div style=\"flex: 0 0 auto; margin-left: 0; margin-bottom: 0;\">\n",
    "        <img src=\"https://scidx.sci.utah.edu/wp-content/uploads/2024/12/logo-sm.png\" alt=\"scidx Logo\"/>\n",
    "    </div>\n",
    "<!--    <div style=\"flex: 0 0 auto; margin-left: auto; margin-bottom: 0;\">\n",
    "        <img src=\"https://nairrpilot.org/app/site/media/ndp.jpg\" alt=\"NDP Logo\" width=\"200\"/>\n",
    "    </div> -->\n",
    "</div>"
   ]
  },
  {
   "cell_type": "markdown",
   "id": "d5cb0d25",
   "metadata": {},
   "source": [
    "# SciDX Streaming Capabilities Demonstration: NetCDF Streaming \n",
    "\n",
    "This demonstration showcases the **SciDX Streaming capabilities**, leveraging both the **SciDX POP Library** for managing data objects and the **Streaming Library** for real-time data streaming and processing of a NetCDF data file.\n"
   ]
  },
  {
   "cell_type": "code",
   "execution_count": null,
   "id": "3021e074",
   "metadata": {},
   "outputs": [],
   "source": [
    "from scidx_streaming import StreamingClient\n",
    "from pointofpresence import APIClient"
   ]
  },
  {
   "cell_type": "markdown",
   "id": "dcd8a7d6-3974-4880-acb7-846dbf8d3375",
   "metadata": {},
   "source": [
    "Here, we:\n",
    "1. Initialize the `APIClient` to handle data registration and discovery.\n",
    "2. Initialize the `StreamingClient` to handle real-time data streams."
   ]
  },
  {
   "cell_type": "code",
   "execution_count": null,
   "id": "6fdbdd01-e195-4f3b-b17e-45771538deed",
   "metadata": {},
   "outputs": [],
   "source": [
    "# Get the token from https://token.ndp.utah.edu\n",
    "API_URL=\"155.101.6.191:8003\"\n",
    "TOKEN=\"TOKEN_PLACEHOLDER\"\n",
    "# Initialize the POP client for data registration and discovery\n",
    "client = APIClient(base_url=API_URL, token=TOKEN)\n",
    "\n",
    "# Initialize the Streaming client for real-time data streaming\n",
    "streaming = StreamingClient(client)\n",
    "print(f\"Streaming Client initialized. User ID: {streaming.user_id}\")"
   ]
  },
  {
   "cell_type": "markdown",
   "id": "c9d99d22-459d-4ac7-9ba9-c8b53b6ab2fc",
   "metadata": {},
   "source": [
    "# Basic use:\n",
    "\n",
    "### 1. Register a NetCDF file\n",
    "\n",
    "In this step, we will use the **POP client**, and the metadata for resgitsering an online **NetCDF** into our POP."
   ]
  },
  {
   "cell_type": "code",
   "execution_count": null,
   "id": "a291386b-45bb-4b40-a3be-51007c066772",
   "metadata": {},
   "outputs": [],
   "source": [
    "# Register the NetCDF data with the POP client\n",
    "netcdf_metadata = {\n",
    "    \"resource_name\": \"netcdf_example_noaa\",\n",
    "    \"resource_title\": \"Example NetCDF\",\n",
    "    \"owner_org\": \"saleem_test\",\n",
    "    \"resource_url\": \"https://noaa-nesdis-tcprimed-pds.s3.amazonaws.com/v01r01/final/1987/AL/02/TCPRIMED_v01r01-final_AL021987_SSMI_F08_000766_19870813094358.nc\",\n",
    "    \"file_type\": \"NetCDF\",\n",
    "    \"notes\": \"Some additional notes about the resource.\",\n",
    "    \"processing\": {\n",
    "        \"group\": \"overpass_metadata\"\n",
    "    }\n",
    "}\n",
    "\n",
    "try:\n",
    "    print(client.register_url(netcdf_metadata))\n",
    "    print('Correctly registered')\n",
    "except ValueError as e: # If the dataset already exists just show the error\n",
    "    print(e)"
   ]
  },
  {
   "cell_type": "markdown",
   "id": "c0cdb5ef-4cd7-4d88-bf93-7d96eb6dba5d",
   "metadata": {},
   "source": [
    "### 2. Search for the registered entry\n",
    "\n",
    "This ensures the dataset is discoverable for use by the Data Consumers."
   ]
  },
  {
   "cell_type": "code",
   "execution_count": null,
   "id": "bff66712-e1d9-4fcb-b117-cf486307b686",
   "metadata": {},
   "outputs": [],
   "source": [
    "# Search for the registered Earthscope data stream\n",
    "search_results = client.search_datasets(\"netcdf_example_noaa\", server=\"local\")\n",
    "print(f\"Number of datasets found: {len(search_results)}\")"
   ]
  },
  {
   "cell_type": "markdown",
   "id": "02cb26dd-5cfe-44af-a765-c45fbeea2719",
   "metadata": {},
   "source": [
    "### 3. Create a Data Stream from the registered entry"
   ]
  },
  {
   "cell_type": "code",
   "execution_count": null,
   "id": "88586b32-ab0b-4d3f-9c1d-0a4298353d2d",
   "metadata": {},
   "outputs": [],
   "source": [
    "# Create a Kafka stream without filters\n",
    "stream = await streaming.create_kafka_stream(\n",
    "    keywords=[\"netcdf_example_noaa\"]\n",
    ")\n",
    "\n",
    "# Retrieve the stream's topic name\n",
    "topic = stream.data_stream_id\n",
    "print(f\"Stream created: {topic}\")"
   ]
  },
  {
   "cell_type": "markdown",
   "id": "627586af-deb9-4852-abd8-1ac91de29e31",
   "metadata": {},
   "source": [
    "### 4. Consume the Streamed Data "
   ]
  },
  {
   "cell_type": "code",
   "execution_count": null,
   "id": "8312f6e9-fb62-4665-b991-74e1a17170be",
   "metadata": {},
   "outputs": [],
   "source": [
    "# Start consuming the filtered Kafka stream\n",
    "consumer = streaming.consume_kafka_messages(topic)"
   ]
  },
  {
   "cell_type": "code",
   "execution_count": null,
   "id": "792cd9d8-1da9-48a4-b86d-0a5f7ae3969b",
   "metadata": {},
   "outputs": [],
   "source": [
    "# After some seconds you can visualize the dataset\n",
    "consumer.dataframe"
   ]
  },
  {
   "cell_type": "markdown",
   "id": "e23a702b-f3c0-4f45-9b3e-5944e2b0a20b",
   "metadata": {},
   "source": [
    "## 5: Stop Data Consumption and Clean up \n",
    "\n",
    "To wrap up, we will: \n",
    "1. Stop the data consumer to halt data processing.\n",
    "2. Delete the created stream from the Kafka topic using the Streaming client.\n",
    "3. Remove the registered dataset using the POP client.\n",
    "\n",
    "This ensures all resources and background tasks are properly released."
   ]
  },
  {
   "cell_type": "code",
   "execution_count": null,
   "id": "66db93d1-a846-49d1-b1c4-fa11acd0ed19",
   "metadata": {},
   "outputs": [],
   "source": [
    "# Stop the Kafka consumer\n",
    "consumer.stop()\n",
    "\n",
    "# Delete the Kafka stream\n",
    "await streaming.delete_stream(stream)\n",
    "\n",
    "# Delete the registered dataset from the POP system\n",
    "client.delete_resource_by_id(search_results[0][\"id\"])\n",
    "print(\"Cleanup completed: Stream and registered dataset deleted.\")"
   ]
  },
  {
   "cell_type": "markdown",
   "id": "72e13b4c-f1f6-4acd-83df-577ef54aeebe",
   "metadata": {},
   "source": [
    "# Advanced Use:\n",
    "\n",
    "### 1. Register and Pre-process a NetCDF file\n",
    "\n",
    "This time we will map the values of interest"
   ]
  },
  {
   "cell_type": "code",
   "execution_count": null,
   "id": "51bbb379-a193-4539-b69c-acb0f5163618",
   "metadata": {},
   "outputs": [],
   "source": [
    "# Register the NetCDF data with the POP client\n",
    "netcdf_metadata = {\n",
    "    \"resource_name\": \"netcdf_example_noaa_advanced\",\n",
    "    \"resource_title\": \"Example NetCDF\",\n",
    "    \"owner_org\": \"saleem_test\",\n",
    "    \"resource_url\": \"https://noaa-nesdis-tcprimed-pds.s3.amazonaws.com/v01r01/final/1987/AL/02/TCPRIMED_v01r01-final_AL021987_SSMI_F08_000766_19870813094358.nc\",\n",
    "    \"file_type\": \"NetCDF\",\n",
    "    \"notes\": \"Some additional notes about the resource.\",\n",
    "    \"mapping\": {\n",
    "        \"lat\": \"latitude\",\n",
    "        \"lon\": \"longitude\",\n",
    "        \"horizontal\": \"x\",\n",
    "        \"vertical\": \"y\",\n",
    "        \"bins\": \"angle_bins\"\n",
    "    },\n",
    "    \"processing\": {\n",
    "        \"group\": \"passive_microwave/S2\"\n",
    "    }\n",
    "}\n",
    "\n",
    "try:\n",
    "    print(client.register_url(netcdf_metadata))\n",
    "    print('Correctly registered')\n",
    "except ValueError as e: # If the dataset already exists just show the error\n",
    "    print(e)"
   ]
  },
  {
   "cell_type": "markdown",
   "id": "77616e8b-442f-46bc-8e75-beda431d80f7",
   "metadata": {},
   "source": [
    "### 2. Search for the registered entry\n",
    "\n",
    "This ensures the dataset is discoverable for use by the Data Consumers."
   ]
  },
  {
   "cell_type": "code",
   "execution_count": null,
   "id": "ea1ba490-4da2-4547-9260-03004c980733",
   "metadata": {},
   "outputs": [],
   "source": [
    "# Search for the registered Earthscope data stream\n",
    "search_results = client.search_datasets(\"netcdf_example_noaa_advanced\", server=\"local\")\n",
    "print(f\"Number of datasets found: {len(search_results)}\")"
   ]
  },
  {
   "cell_type": "markdown",
   "id": "4f220bae-9b42-4ae1-8570-2206dfc4cda2",
   "metadata": {},
   "source": [
    "### 3. Create a Data Stream from the registered entry with Filters"
   ]
  },
  {
   "cell_type": "markdown",
   "id": "c787cf46-7578-428e-b185-4f6b1256135b",
   "metadata": {},
   "source": [
    "The *filtering capabilities* allow us to refine the data stream by applying conditions, alerts, and transformations.\n",
    "\n",
    "#### Filtering capabilities: \n",
    "\n",
    "| **Type**                        | **Explanation**                                             | **Example**                                       |\n",
    "|---------------------------------|-------------------------------------------------------------|---------------------------------------------------|\n",
    "| Column Comparisons              | Column-to-column comparisons                                | `x > y`                                           |\n",
    "| Mathematical Operations         | Addition, subtraction, multiplication and division          | `x > 10*y`                                        |\n",
    "| IN Operator                     | Check if values are in a list                               | `station IN ['A', 'B']`                           |\n",
    "| Conditional Logic (IF-THEN-ELSE)| Apply rules based on conditional statements                 | `IF x > 20 THEN alert = High ELSE y = 10`         |\n",
    "| Logical Operators (AND, OR)     | Combine multiple conditions using AND and OR operators       | `IF x > 10 OR z = 20 THEN alert = High ELSE alert = Low` |\n",
    "| Window-Based Filtering          | Calculate aggregates (mean, sum, max, min) over sliding windows | `IF window_filter(9, sum, x > 20) THEN alert = High` |\n"
   ]
  },
  {
   "cell_type": "code",
   "execution_count": null,
   "id": "51a9dc3c-cd7f-4ac3-a9de-9182e1ca0ca7",
   "metadata": {},
   "outputs": [],
   "source": [
    "filters = [\n",
    "    \"lat > 25\",\n",
    "    \"vertical < horizontal\",\n",
    "    \"IF bins < 50 THEN alert = 0 ELSE alert = 1\"\n",
    "]\n",
    "\n",
    "# Create a Kafka stream with the NetCDF selected data\n",
    "stream = await streaming.create_kafka_stream(\n",
    "    keywords=[\"netcdf_example_noaa_advanced\"],\n",
    "    match_all=True,\n",
    "    filter_semantics=filters\n",
    ")\n",
    "\n",
    "# Retrieve the stream's topic name\n",
    "topic = stream.data_stream_id\n",
    "print(f\"Stream created: {topic}\")"
   ]
  },
  {
   "cell_type": "code",
   "execution_count": null,
   "id": "ec65fbe5-44ae-423d-8442-25f47d90a19a",
   "metadata": {},
   "outputs": [],
   "source": [
    "# Start consuming the filtered Kafka stream\n",
    "consumer = streaming.consume_kafka_messages(topic)"
   ]
  },
  {
   "cell_type": "code",
   "execution_count": null,
   "id": "6c6b0cf1-0f5e-46ef-a453-48a31949d121",
   "metadata": {},
   "outputs": [],
   "source": [
    "consumer.dataframe"
   ]
  },
  {
   "cell_type": "markdown",
   "id": "37312881-17c0-47e6-9690-495c5d1e6d58",
   "metadata": {},
   "source": [
    "## 5: Stop Data Consumption and Clean up \n",
    "\n",
    "To wrap up, we will: \n",
    "1. Stop the data consumer to halt data processing.\n",
    "2. Delete the created stream from the Kafka topic using the Streaming client.\n",
    "3. Remove the registered dataset using the POP client.\n",
    "\n",
    "This ensures all resources and background tasks are properly released."
   ]
  },
  {
   "cell_type": "code",
   "execution_count": null,
   "id": "d9d1df0a-a70e-45be-8bda-c898dc1311d1",
   "metadata": {},
   "outputs": [],
   "source": [
    "# Stop the Kafka consumer\n",
    "consumer.stop()\n",
    "\n",
    "# Delete the Kafka stream\n",
    "await streaming.delete_stream(stream)\n",
    "\n",
    "# Delete the registered dataset from the POP system\n",
    "client.delete_resource_by_id(search_results[0][\"id\"])\n",
    "print(\"Cleanup completed: Stream and registered dataset deleted.\")"
   ]
  },
  {
   "cell_type": "code",
   "execution_count": null,
   "id": "2dcba337-aad8-4fb6-81b7-6607d8f78e05",
   "metadata": {},
   "outputs": [],
   "source": []
  }
 ],
 "metadata": {
  "kernelspec": {
   "display_name": "Python 3 (ipykernel)",
   "language": "python",
   "name": "python3"
  },
  "language_info": {
   "codemirror_mode": {
    "name": "ipython",
    "version": 3
   },
   "file_extension": ".py",
   "mimetype": "text/x-python",
   "name": "python",
   "nbconvert_exporter": "python",
   "pygments_lexer": "ipython3",
   "version": "3.11.6"
  }
 },
 "nbformat": 4,
 "nbformat_minor": 5
}
