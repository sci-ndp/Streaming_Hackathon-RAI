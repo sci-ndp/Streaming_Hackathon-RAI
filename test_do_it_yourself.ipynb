{
 "cells": [
  {
   "cell_type": "markdown",
   "id": "14b6d4f5-e7eb-40bd-82f5-723081d80802",
   "metadata": {},
   "source": [
    "<div style=\"display: flex; justify-content: space-between; align-items: center; margin-bottom: 20px;\">\n",
    "    <div style=\"flex: 0 0 auto; margin-left: 0; margin-bottom: 0;\">\n",
    "        <img src=\"https://scidx.sci.utah.edu/wp-content/uploads/2024/12/logo-sm.png\" alt=\"scidx Logo\"/>\n",
    "    </div>\n",
    "    <div style=\"flex: 0 0 auto; margin-left: auto; margin-bottom: 0;\">\n",
    "        <img src=\"https://nairrpilot.org/app/site/media/ndp.jpg\" alt=\"NDP Logo\" width=\"200\"/>\n",
    "    </div>\n",
    "</div>"
   ]
  },
  {
   "cell_type": "markdown",
   "id": "d5cb0d25",
   "metadata": {},
   "source": [
    "# RAI Utah Hackathon: Exploring Data Streaming with SciDX_Streaming\n",
    "\n",
    "Welcome to the RAI Utah Hackathon, where innovation meets real-world data! In this event, participants will harness the power of the SciDX_Streaming library to efficiently process and analyze diverse datasets from atmospheric and environmental sources. This notebook will provide a step by step guide to explore data streaming using Sci_DX_Streaming.\n",
    "\n",
    "Using SciDX_Streaming, teams will dive into high-resolution weather and environmental datasets, including: \n",
    " - https://horel.chpc.utah.edu/data/meop/level2/\n",
    " - https://horel.chpc.utah.edu/data/meop/level3/\n",
    " - https://horel.chpc.utah.edu/data/meop/data/\n",
    "\n",
    "For more information on how SciDX_Streaming and POP system works please visit - <add_link_to_the_overview>\n",
    "\n",
    "\n",
    "## Key Components\n",
    "- Metadata registration: Setting Up Your Stream Before accessing data, you need to register your stream using the SciDX framework. This involves defining essential metadata—such as where the data is coming from, its structure, and format—so SciDX_Streaming knows how to handle it. Think of this as setting up the foundation for smooth data flow.\n",
    "\n",
    "- Discovering, Filtering and Processing: Refining the Data Instead of working with raw, unprocessed data, SciDX_Streaming allows users to apply transformations and filters before consuming the stream. Whether it’s removing noise, selecting relevant segments, or optimizing data for analysis, this step ensures you're working with clean, meaningful information.\n",
    "\n",
    "- Real-time data consumption: Streaming and Visualization Once the stream is registered and optimized, users can start consuming it in real time! With SciDX_Streaming, you can efficiently process and visualize data streams for insights—whether it's live weather conditions, oceanic observations, or environmental trends.\n",
    "\n",
    "## Key Concepts\n",
    "\n",
    "### Organizations\n",
    "Organizations serve as logical groupings for resources and datasets:\n",
    "- Act as containers for related datasets\n",
    "- Help manage access control and permissions\n",
    "- Enable better organization of data resources\n",
    "- Allow team collaboration on datasets\n",
    "\n",
    "### Three Types of Resources\n",
    "\n",
    "1. Kafka Topics\n",
    "   - For streaming data\n",
    "   - Real-time data processing\n",
    "   - Continuous data flows\n",
    "\n",
    "2. S3 Links\n",
    "   - For object storage\n",
    "   - Large dataset management\n",
    "   - Static file storage\n",
    "\n",
    "3. URL Resources\n",
    "   - External data sources\n",
    "   - Web-accessible datasets\n",
    "   - Supports multiple file types (CSV, JSON, TXT, NetCDF)\n",
    "\n",
    "We will work with url resources in this notebook.\n",
    "\n",
    "## Step 1: Setting Up the Clients\n",
    "\n",
    "In this step, we will:\n",
    "1. Import necessary modules for handling data streams.\n",
    "2. Initialize the API or Kafka client to register and discover data streams.\n",
    "3. Initialize the Streaming client to consume real-time data."
   ]
  },
  {
   "cell_type": "code",
   "execution_count": 67,
   "id": "3021e074",
   "metadata": {},
   "outputs": [],
   "source": [
    "# Importing necessary modules\n",
    "from scidx_streaming import StreamingClient\n",
    "from pointofpresence import APIClient"
   ]
  },
  {
   "cell_type": "markdown",
   "id": "a0dadb58",
   "metadata": {},
   "source": [
    "Now we need to define the TOKEN, you can grab it from here: https://token.ndp.utah.edu\n",
    "- If not already authenticated:\n",
    "    - Select the `CILogon` button\n",
    "    - Choose your institution from the Identity Provider list\n",
    "    - Complete the institutional login process\n",
    "    \n",
    "- Upon successful authentication, you will be redirected to token.ndp.utah.edu\n",
    "    \n",
    "- Locate the `Access Token` field and copy the token value\n",
    "    \n",
    "- Replace `<your_token>` in the configuration below with your copied access token"
   ]
  },
  {
   "cell_type": "code",
   "execution_count": null,
   "id": "202cbad7",
   "metadata": {},
   "outputs": [],
   "source": [
    "TOKEN=\"\""
   ]
  },
  {
   "cell_type": "markdown",
   "id": "dcd8a7d6-3974-4880-acb7-846dbf8d3375",
   "metadata": {},
   "source": [
    "Here, we:\n",
    "1. Initialize the `APIClient` to handle data registration and discovery.\n",
    "2. Initialize the `StreamingClient` to handle real-time data streams."
   ]
  },
  {
   "cell_type": "code",
   "execution_count": 69,
   "id": "6fdbdd01-e195-4f3b-b17e-45771538deed",
   "metadata": {},
   "outputs": [
    {
     "name": "stdout",
     "output_type": "stream",
     "text": [
      "Streaming Client initialized. User ID: fc624925-ef09-447d-bf16-378066799275\n"
     ]
    }
   ],
   "source": [
    "# Initialize the POP client for data registration and discovery\n",
    "API_URL = \"155.101.6.191:8003\"\n",
    "client = APIClient(base_url=API_URL, token=TOKEN)\n",
    "\n",
    "# Initialize the Streaming client for real-time data streaming\n",
    "streaming = StreamingClient(client)\n",
    "print(f\"Streaming Client initialized. User ID: {streaming.user_id}\")"
   ]
  },
  {
   "cell_type": "markdown",
   "id": "c9d99d22-459d-4ac7-9ba9-c8b53b6ab2fc",
   "metadata": {},
   "source": [
    "## Step 2: Registering your team name as Organization \n",
    "\n",
    "To register an organization, we use: \n",
    "- `client.register_organization(org_data)` for API-based and static file streams. \n",
    "\n",
    "Each registration requires defining metadata, which includes Basic information: \n",
    "- `name`: Unique identifier for the organization.\n",
    "- `title`: A descriptive name for the organization.\n",
    "- `description`: A description of the organization."
   ]
  },
  {
   "cell_type": "code",
   "execution_count": 70,
   "id": "a056d494",
   "metadata": {},
   "outputs": [],
   "source": [
    "org_name = \"sumaiya_test\""
   ]
  },
  {
   "cell_type": "code",
   "execution_count": 71,
   "id": "7d00ba5c",
   "metadata": {},
   "outputs": [
    {
     "name": "stdout",
     "output_type": "stream",
     "text": [
      "Organization 'sumaiya_test' registered successfully.\n"
     ]
    }
   ],
   "source": [
    "# Get the list of organizations\n",
    "organizations = client.list_organizations(server=\"local\")\n",
    "\n",
    "# If the organization already exists, delete it\n",
    "if org_name in organizations:\n",
    "    print(f\"Organization '{org_name}' already exists. Deleting it.\")\n",
    "    client.delete_organization(org_name,server=\"local\")\n",
    "\n",
    "# registering organization\n",
    "org_data = {\n",
    "    \"name\": org_name,\n",
    "    \"title\": \"sumaiya_test\",\n",
    "    \"description\": \"Sumaiya test organization for testing purposes\",\n",
    "}\n",
    "\n",
    "try:\n",
    "    client.register_organization(org_data,server=\"local\")\n",
    "    print(f\"Organization '{org_name}' registered successfully.\")\n",
    "except ValueError as e:\n",
    "    print(e)"
   ]
  },
  {
   "cell_type": "markdown",
   "id": "e76e586d",
   "metadata": {},
   "source": [
    "## Step 3: Registering your data stream (Data Provider) \n",
    "\n",
    "SciDX allows users to register data streams from different sources (e.g. CSV, TXT or JSON files). In this step, we will use the POP client, and the metadata for resgitsering an online CSV into our POP. \n",
    "\n",
    "### How registration works \n",
    "\n",
    "To register a data source, we use: \n",
    "- `client.register_url(metadata)` for API-based and static file streams. This method supports -\n",
    "    - API streams: External APIs providing real-time or batch data. \n",
    "    - Static files: Pre-existing datasets hosted on a URL (CSV, TXT, JSON, NetCDF). \n",
    "\n",
    "\n",
    "\n",
    "Each registration requires defining metadata, which includes:\n",
    "\n",
    "- `resource_name`: Unique identifier for the resource.\n",
    "- `resource_title`: A descriptive name for the resource.\n",
    "- `owner_org`: The ID of the CKAN organization registering the stream.\n",
    "- `resource_url`: The API endpoint or static file URL.\n",
    "- `file_type`: Type of file (CSV, TXT, JSON, NetCDF, or stream for real-time APIs).\n",
    "- `notes`: Optional field for additional information.\n",
    "- `extras`: Additional metadata such as authentication parameters or custom settings.\n",
    "- `mapping`: Defines how specific fields from the stream or file should be extracted and renamed.In this case, only mapped fields will be shown.\n",
    "\n",
    "And we can register it like this: `client.register_url(example_payload)`. \n",
    "\n",
    "Once registered, these streams can be discovered, filtered, and consumed dynamically. \n",
    "\n",
    "The following dataset looks like this -\n",
    "| times               |     LAT |      LON |    ELV |   ROW |   COL |   GSP |   SP |   TT |   TRH |   PM1 |   PM2.5 |   PM4 |   PM10 |   PRHI |    O3 |   PMF |   O3F |   GPF |   SPF |   MOB |\n",
    "|:--------------------|--------:|---------:|-------:|------:|------:|------:|-----:|-----:|------:|------:|--------:|------:|-------:|-------:|------:|------:|------:|------:|------:|------:|\n",
    "| 2021-09-28 16:47:00 | 40.7698 | -111.85  |  163.8 |    64 |    70 |   nan |  1.1 | 22.9 |  23.7 |   nan |     5   |   nan |    nan |   27   | nan   |     0 |     0 |     0 |     4 |    11 |\n",
    "| 2021-09-28 16:48:00 | 40.7663 | -111.848 | 1475.1 |    63 |    70 |   nan |  0.2 | 22.9 |  23.6 |   nan |     5   |   nan |    nan |   27   | nan   |     0 |     0 |     0 |     8 |     9 |\n",
    "| 2021-09-28 16:48:00 | 40.7698 | -111.851 |  164.1 |    64 |    70 |   nan |  0.6 | 22.9 |  23.7 |   nan |     5   |   nan |    nan |   27   | nan   |     0 |     0 |     0 |     2 |     2 |\n",
    "| 2021-09-28 16:49:00 | 40.7662 | -111.848 | 1475.8 |    63 |    70 |   nan |  0.3 | 23   |  23.5 |   nan |     5   |   nan |    nan |   27   |  33.2 |     0 |     0 |     0 |     9 |    10 |\n",
    "| 2021-09-28 16:50:00 | 40.7662 | -111.848 | 1475.7 |    63 |    70 |   nan |  0.2 | 23   |  23.5 |   nan |     5   |   nan |    nan |   27   |  33.3 |     0 |     0 |     0 |    12 |    12 |\n",
    "\n",
    "`mapping` section works as following-\n",
    "- Column `ELV` is renamed as `elevation`"
   ]
  },
  {
   "cell_type": "code",
   "execution_count": 72,
   "id": "235f25bf",
   "metadata": {},
   "outputs": [],
   "source": [
    "resource_name = \"sumayia_test\""
   ]
  },
  {
   "cell_type": "code",
   "execution_count": 76,
   "id": "a291386b-45bb-4b40-a3be-51007c066772",
   "metadata": {},
   "outputs": [
    {
     "name": "stdout",
     "output_type": "stream",
     "text": [
      "Resource 'sumayia_test' registered successfully.\n"
     ]
    }
   ],
   "source": [
    "number_of_datasets_found = client.search_datasets(resource_name,server=\"local\")\n",
    "\n",
    "if len(number_of_datasets_found) > 0:\n",
    "    print(f\"Resource '{resource_name}' already exists. Deleting it.\")\n",
    "    client.delete_resource_by_name(resource_name,server=\"local\")\n",
    "\n",
    "# Register the CSV data with the POP client\n",
    "csv_metadata = {\n",
    "    \"resource_name\": resource_name,\n",
    "    \"resource_title\": \"ebus_min_2021_09\",\n",
    "    \"owner_org\": org_name,\n",
    "    \"resource_url\": \"https://horel.chpc.utah.edu/data/meop/level3/ebus_2021/ebus_min_2021_09.csv\",\n",
    "    \"file_type\": \"CSV\",\n",
    "    \"notes\": \"Some additional notes about the resource.\",\n",
    "    \"mapping\": {\n",
    "        \"elevation\":\"ELV\",\n",
    "        \"ozone_concentration\":\"O3\"\n",
    "    }\n",
    "}\n",
    "\n",
    "try:\n",
    "    client.register_url(csv_metadata,server=\"local\")\n",
    "    print(f\"Resource '{resource_name}' registered successfully.\")\n",
    "except ValueError as e:\n",
    "    print(e)"
   ]
  },
  {
   "cell_type": "markdown",
   "id": "c0cdb5ef-4cd7-4d88-bf93-7d96eb6dba5d",
   "metadata": {},
   "source": [
    "## Step 4: Discovering registered data sources (Data Provider)\n",
    "\n",
    "Now that we have registered the different data sources, we will: \n",
    "1. Use the POP client to search for datasets using the `search_datasets` method.\n",
    "2. Verify that the registered data stream is correctly stored and available for discovery.\n",
    "3. Confirm metadaa accuracy before data consumption.\n",
    "\n",
    "This ensures the dataset is discoverable for use by the Data Consumers."
   ]
  },
  {
   "cell_type": "code",
   "execution_count": 77,
   "id": "bff66712-e1d9-4fcb-b117-cf486307b686",
   "metadata": {},
   "outputs": [
    {
     "name": "stdout",
     "output_type": "stream",
     "text": [
      "Number of datasets found: 1\n"
     ]
    }
   ],
   "source": [
    "# Search for the registered Earthscope data stream\n",
    "search_results = client.search_datasets(resource_name, server=\"local\")\n",
    "print(f\"Number of datasets found: {len(search_results)}\")"
   ]
  },
  {
   "cell_type": "markdown",
   "id": "30601fa5",
   "metadata": {},
   "source": [
    "# Transition: From Data Provider to Data Consumer \n",
    "\n",
    "At this point, the POP client (Data Provider) has completed its role in: \n",
    "1. Registering the data source metadata.\n",
    "2. Verifying its discoverability.\n",
    "\n",
    "Now, we transition to the Streaming client (Data Consumer) to: \n",
    "1. Discover and apply filters to the registered data sources to create a custom data stream.\n",
    "2. Subscribe to and consume the custom data stream in real-time.\n",
    "3. Process and visualize the incoming data dynamically.\n",
    "\n",
    "However, while we are streaming data from the same client that registered it, this process does not require using the same client. By allowing different clients to access and consume registered data, this framework provides flexibility for external consumers to interact with data seamlessly, regardless of the original registration source."
   ]
  },
  {
   "cell_type": "markdown",
   "id": "02cb26dd-5cfe-44af-a765-c45fbeea2719",
   "metadata": {},
   "source": [
    "## Step 5: Create a Data Stream with filtered Data Sources (Data Consumer) \n",
    "\n",
    "The `create_kafka_stream` function searches for datasets matching the provided keywords, applies filtering semantics, and creates a real-time Kafka stream for consumption. \n",
    "\n",
    "#### Function parameters \n",
    "\n",
    "- `keywords`: List of keywords to filter relevant datasets.\n",
    "- `filter_semantics`: Optional, defines filtering criteria for datasets.\n",
    "- `match_all`: Optional, if True only data sources with all the keywords will be selected.\n",
    "- `username`: Optional username for authentication in protected data sources.\n",
    "- `password`: Optional password for authentication in protected data sources.\n",
    "\n",
    "### Filtering capabilities & Logic\n",
    "\n",
    "SciDX provides a powerful filtering system that allows users to refine their data streams by applying custom filtering conditions before consuming them. These filters enable real-time data selection based on specific rules, comparisons, and logical expressions. \n",
    "\n",
    "\n",
    "### How filters modify Data Streams\n",
    "\n",
    "SciDX does not remove rows from the data stream by default. Instead: \n",
    "- If a row does not meet the filtering criteria, its affected column values are set to `null`.\n",
    "- All rows are still sent, even if they contain `null` values.\n",
    "\n",
    "\n",
    "### Supported filtering methods\n",
    "\n",
    "The filtering capabilities allow us to refine the data stream by applying conditions, alerts, and transformations.\n",
    "\n",
    "| **Type**                    | **Description**                                      | **Example**                                  |\n",
    "|-----------------------------|--------------------------------------------------|----------------------------------------------|\n",
    "| **Column comparisons**       | Compare values between different columns        | `x > y`                                     |\n",
    "| **Mathematical operations**  | Apply arithmetic operations (+, -, *, /) to compare column values       | `x > 10 * y`                                |\n",
    "| **IN operator**              | Check if a column value exists in a predefined list   | `alert IN ['High', 'Critical', 'Warning']`                     |\n",
    "| **Conditional logic (IF-THEN-ELSE)** | Apply rules based on conditions of column value        | `IF x > 20 THEN alert = High ELSE alert = Low`   |\n",
    "| **Conditional logic (IF only)** | Apply rules based on conditions of column value        | `IF x > 20 THEN alert = High ELSE alert = Low`   |\n",
    "| **Logical operators (OR)** | Combine multiple conditions                 | `IF x > 10 OR z = 20 THEN alert = High` |\n",
    "| **Logical operators (AND)** | Combine multiple conditions                 | `IF x > 10 AND z = 20 THEN alert = High` |\n",
    "| **Window-based filtering**   | Aggregate functions over sliding time windows  | `IF window_filter(9, sum, x > 20) THEN alert = High` |\n",
    "\n",
    "---\n"
   ]
  },
  {
   "cell_type": "code",
   "execution_count": 79,
   "id": "88586b32-ab0b-4d3f-9c1d-0a4298353d2d",
   "metadata": {},
   "outputs": [
    {
     "name": "stdout",
     "output_type": "stream",
     "text": [
      "Stream created: data_stream_fc624925-ef09-447d-bf16-378066799275_3\n"
     ]
    }
   ],
   "source": [
    "# Create a Kafka stream for the registered data with filters applied\n",
    "filters = [\n",
    "    \"IF ozone_concentration > 30 THEN alert = HIGH ELSE alert = LOW\"\n",
    "]\n",
    "\n",
    "# Create a Kafka stream for Earthscope data with filters applied\n",
    "stream = await streaming.create_kafka_stream(\n",
    "    keywords=[resource_name],\n",
    "    match_all=True,\n",
    "    filter_semantics=filters\n",
    ")\n",
    "\n",
    "# Retrieve the stream's topic name\n",
    "topic = stream.data_stream_id\n",
    "print(f\"Stream created: {topic}\")"
   ]
  },
  {
   "cell_type": "markdown",
   "id": "627586af-deb9-4852-abd8-1ac91de29e31",
   "metadata": {},
   "source": [
    "## Step 6: Consuming the filtered data stream \n",
    "\n",
    "Now that we have successfully created a filtered Kafka data stream, we transition to real-time data consumption. This step involves: \n",
    "1. Initializing a kafka consumer: Passing the data stream topic to the `consume_kafka_messages` function.\n",
    "2. Listening for incoming messages: Continuously receiving new filtered data in real-time.\n",
    "3. Processing and updating the data dynamically: Messages are appended to a DataFrame for analysis or visualization.\n",
    "\n",
    "**Note**: It may take a few seconds for data to populate due to real-time processing."
   ]
  },
  {
   "cell_type": "code",
   "execution_count": 80,
   "id": "8312f6e9-fb62-4665-b991-74e1a17170be",
   "metadata": {},
   "outputs": [],
   "source": [
    "# Start consuming the filtered Kafka stream\n",
    "consumer = streaming.consume_kafka_messages(topic)"
   ]
  },
  {
   "cell_type": "code",
   "execution_count": 81,
   "id": "1cae5ece",
   "metadata": {},
   "outputs": [],
   "source": [
    "# Get the data from the consumer\n",
    "df=consumer.dataframe"
   ]
  },
  {
   "cell_type": "code",
   "execution_count": 82,
   "id": "792cd9d8-1da9-48a4-b86d-0a5f7ae3969b",
   "metadata": {},
   "outputs": [
    {
     "name": "stdout",
     "output_type": "stream",
     "text": [
      "     elevation  ozone_concentration alert\n",
      "0        163.8                  NaN   LOW\n",
      "1       1475.1                  NaN   LOW\n",
      "2        164.1                  NaN   LOW\n",
      "3       1475.8                 33.2  HIGH\n",
      "4       1475.7                 33.3  HIGH\n",
      "..         ...                  ...   ...\n",
      "287     1472.0                 28.6   LOW\n",
      "288     1472.6                 29.4   LOW\n",
      "289     1469.8                 30.9  HIGH\n",
      "290     1470.3                 30.1  HIGH\n",
      "291     1472.4                 31.6  HIGH\n",
      "\n",
      "[292 rows x 3 columns]\n"
     ]
    }
   ],
   "source": [
    "# Import necessary modules to visualize the data\n",
    "import pandas as pd\n",
    "\n",
    "df = pd.DataFrame(df)\n",
    "df = pd.DataFrame(df.iloc[0].to_dict())\n",
    "df.reset_index(drop=True, inplace=True)\n",
    "\n",
    "print(df)"
   ]
  },
  {
   "cell_type": "code",
   "execution_count": 83,
   "id": "7fdcc51c",
   "metadata": {},
   "outputs": [
    {
     "data": {
      "image/png": "[encoded data removed]",
      "text/plain": [
       "<Figure size 1000x600 with 1 Axes>"
      ]
     },
     "metadata": {},
     "output_type": "display_data"
    }
   ],
   "source": [
    "import matplotlib.pyplot as plt\n",
    "import seaborn as sns\n",
    "\n",
    "# Ensure NaN values in ozone_concentration are handled\n",
    "df = df.dropna(subset=['ozone_concentration'])\n",
    "\n",
    "# Create the plot\n",
    "plt.figure(figsize=(10, 6))\n",
    "sns.scatterplot(data=df, x='elevation', y='ozone_concentration', hue='alert', palette={'LOW': 'blue', 'HIGH': 'red'})\n",
    "\n",
    "# Labels and title\n",
    "plt.xlabel('Elevation (m)')\n",
    "plt.ylabel('Ozone Concentration')\n",
    "plt.title('Ozone Concentration vs Elevation')\n",
    "\n",
    "# Show the plot\n",
    "plt.show()\n",
    "\n"
   ]
  },
  {
   "cell_type": "markdown",
   "id": "e23a702b-f3c0-4f45-9b3e-5944e2b0a20b",
   "metadata": {},
   "source": [
    "## Step 7: Stopping data consumption and Cleaning up \n",
    "\n",
    "Once the data stream has been consumed and analyzed, we can clean up resources to prevent unnecessary background processes and free up system resources. This step involves:\n",
    "1. Stopping the kafka consumer: Ensures that the data stream halts processing.\n",
    "2. Deleting the created kafka stream: Removes the created data stream from the Kafka topic using the Streaming client.\n",
    "3. Deleting the registered data source: Cleans up the metadata registration from the POP client.\n",
    "4. Deleting the registered organization: Cleans up the organization from the POP client."
   ]
  },
  {
   "cell_type": "code",
   "execution_count": 84,
   "id": "66db93d1-a846-49d1-b1c4-fa11acd0ed19",
   "metadata": {},
   "outputs": [
    {
     "name": "stdout",
     "output_type": "stream",
     "text": [
      "Message: Stream 'data_stream_fc624925-ef09-447d-bf16-378066799275_3' deleted successfully\n"
     ]
    }
   ],
   "source": [
    "# Stop the Kafka consumer\n",
    "consumer.stop()\n",
    "\n",
    "# Delete the Kafka stream\n",
    "try:\n",
    "    response=await streaming.delete_stream(stream)\n",
    "    message=response[\"message\"]\n",
    "    print(f\"Message: {message}\")\n",
    "except ValueError as e:\n",
    "    print(e)"
   ]
  },
  {
   "cell_type": "code",
   "execution_count": 85,
   "id": "d0941c22",
   "metadata": {},
   "outputs": [
    {
     "name": "stdout",
     "output_type": "stream",
     "text": [
      "Message: sumayia_test deleted successfully\n"
     ]
    }
   ],
   "source": [
    "# Delete the registered dataset from the POP system\n",
    "try:\n",
    "    response=client.delete_resource_by_id(resource_name, server=\"local\")\n",
    "    message=response[\"message\"]\n",
    "    print(f\"Message: {message}\")\n",
    "except ValueError as e:\n",
    "    print(e)"
   ]
  },
  {
   "cell_type": "code",
   "execution_count": 86,
   "id": "aa0bd9da",
   "metadata": {},
   "outputs": [
    {
     "name": "stdout",
     "output_type": "stream",
     "text": [
      "Message: Organization deleted successfully\n"
     ]
    }
   ],
   "source": [
    "# Delete the registered organization from the POP system\n",
    "try:\n",
    "    response=client.delete_organization(org_name, server=\"local\")\n",
    "    message=response[\"message\"]\n",
    "    print(f\"Message: {message}\")\n",
    "except ValueError as e:\n",
    "    print(e)"
   ]
  }
 ],
 "metadata": {
  "kernelspec": {
   "display_name": ".venv",
   "language": "python",
   "name": "python3"
  },
  "language_info": {
   "codemirror_mode": {
    "name": "ipython",
    "version": 3
   },
   "file_extension": ".py",
   "mimetype": "text/x-python",
   "name": "python",
   "nbconvert_exporter": "python",
   "pygments_lexer": "ipython3",
   "version": "3.12.3"
  }
 },
 "nbformat": 4,
 "nbformat_minor": 5
}
